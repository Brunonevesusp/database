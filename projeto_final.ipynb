{
 "cells": [
  {
   "cell_type": "markdown",
   "id": "5832fc85",
   "metadata": {},
   "source": [
    "# Projeto Final\n",
    "\n",
    "Pedro Fernandez Tonso 4202166"
   ]
  },
  {
   "cell_type": "markdown",
   "id": "fde5f1ac",
   "metadata": {},
   "source": [
    "## Tarefas"
   ]
  },
  {
   "cell_type": "markdown",
   "id": "ddfdbb61",
   "metadata": {},
   "source": [
    "### Modelagem Conceitual"
   ]
  }
 ],
 "metadata": {
  "kernelspec": {
   "display_name": "venv",
   "language": "python",
   "name": "python3"
  },
  "language_info": {
   "codemirror_mode": {
    "name": "ipython",
    "version": 3
   },
   "file_extension": ".py",
   "mimetype": "text/x-python",
   "name": "python",
   "nbconvert_exporter": "python",
   "pygments_lexer": "ipython3",
   "version": "3.10.12"
  }
 },
 "nbformat": 4,
 "nbformat_minor": 5
}
